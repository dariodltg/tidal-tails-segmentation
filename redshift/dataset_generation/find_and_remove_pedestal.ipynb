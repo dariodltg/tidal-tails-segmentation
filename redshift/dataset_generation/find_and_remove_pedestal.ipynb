{
 "cells": [
  {
   "cell_type": "code",
   "execution_count": null,
   "metadata": {},
   "outputs": [],
   "source": [
    "from astropy.io import fits\n",
    "import numpy as np\n",
    "import matplotlib.pyplot as plt\n",
    "import os"
   ]
  },
  {
   "cell_type": "code",
   "execution_count": null,
   "metadata": {},
   "outputs": [],
   "source": [
    "path_mathias_backgrounds = \"backgrounds_mathias/\"\n",
    "path_mathias_backgrounds_without_pedestal = \"backgrounds_mathias_without_pedestal/\""
   ]
  },
  {
   "cell_type": "code",
   "execution_count": null,
   "metadata": {},
   "outputs": [],
   "source": [
    "if not os.path.exists(path_mathias_backgrounds_without_pedestal):\n",
    "    os.makedirs(path_mathias_backgrounds_without_pedestal)"
   ]
  },
  {
   "cell_type": "code",
   "execution_count": null,
   "metadata": {},
   "outputs": [],
   "source": [
    "path_background_vis = path_mathias_backgrounds + \"EUC_MER_BGSUB-MOSAIC-VIS_TILE101019127-2ADA59_20240112T193045.603369Z_00.00.fits\"\n",
    "path_background_nisp_y = path_mathias_backgrounds + \"EUC_MER_BGSUB-MOSAIC-NIR-Y_TILE101019127-CFC333_20240112T190219.154592Z_00.00.fits\"\n",
    "path_background_nisp_j = path_mathias_backgrounds + \"EUC_MER_BGSUB-MOSAIC-NIR-J_TILE101019127-ECE21F_20240112T185713.437206Z_00.00.fits\"\n",
    "path_background_nisp_h = path_mathias_backgrounds + \"EUC_MER_BGSUB-MOSAIC-NIR-H_TILE101019127-6715A1_20240112T190340.364333Z_00.00.fits\""
   ]
  },
  {
   "cell_type": "code",
   "execution_count": null,
   "metadata": {},
   "outputs": [],
   "source": [
    "path_background_vis_without_pedestal = path_mathias_backgrounds_without_pedestal + \"EUC_MER_BGSUB-MOSAIC-VIS_TILE101019127-2ADA59_20240112T193045.603369Z_00.00.fits\"\n",
    "path_background_nisp_y_without_pedestal = path_mathias_backgrounds_without_pedestal + \"EUC_MER_BGSUB-MOSAIC-NIR-Y_TILE101019127-CFC333_20240112T190219.154592Z_00.00.fits\"\n",
    "path_background_nisp_j_without_pedestal = path_mathias_backgrounds_without_pedestal + \"EUC_MER_BGSUB-MOSAIC-NIR-J_TILE101019127-ECE21F_20240112T185713.437206Z_00.00.fits\"\n",
    "path_background_nisp_h_without_pedestal = path_mathias_backgrounds_without_pedestal + \"EUC_MER_BGSUB-MOSAIC-NIR-H_TILE101019127-6715A1_20240112T190340.364333Z_00.00.fits\""
   ]
  },
  {
   "cell_type": "code",
   "execution_count": null,
   "metadata": {},
   "outputs": [],
   "source": [
    "#VIS\n",
    "hdu_list = fits.open(path_background_vis)\n",
    "image_data = hdu_list[0].data\n",
    "hdu_list.close()"
   ]
  },
  {
   "cell_type": "code",
   "execution_count": null,
   "metadata": {},
   "outputs": [],
   "source": [
    "# Calcular la media y la desviación estándar de toda la imagen\n",
    "mean_background = np.mean(image_data)\n",
    "std_background = np.std(image_data)"
   ]
  },
  {
   "cell_type": "code",
   "execution_count": null,
   "metadata": {},
   "outputs": [],
   "source": [
    "min_val = np.min(image_data)\n",
    "print(min_val)\n",
    "max_val = np.max(image_data)\n",
    "print(max_val)\n",
    "\n",
    "print(mean_background)\n",
    "print(std_background)\n",
    "\n",
    "# Mostrar el histograma de los valores de los píxeles\n",
    "plt.figure(figsize=(10, 6))\n",
    "plt.hist(image_data.flatten(), bins=100, color='blue', alpha=0.7)\n",
    "plt.title('Histograma de Valores de los Píxeles')\n",
    "plt.xlabel('Valor del Píxel')\n",
    "plt.ylabel('Frecuencia')\n",
    "plt.yscale('log')  # Usar escala logarítmica para mejor visualización\n",
    "plt.grid(True)\n",
    "plt.show()"
   ]
  },
  {
   "cell_type": "code",
   "execution_count": null,
   "metadata": {},
   "outputs": [],
   "source": [
    "# Sustraer el ruido de fondo de la imagen completa\n",
    "image_data_subtracted = image_data - mean_background\n",
    "# Ajustar los valores negativos a 0\n",
    "image_data_subtracted = np.maximum(image_data_subtracted, 0)\n"
   ]
  },
  {
   "cell_type": "code",
   "execution_count": null,
   "metadata": {},
   "outputs": [],
   "source": [
    "# Guardar la imagen con el ruido sustraído\n",
    "fits.writeto(path_background_vis_without_pedestal, image_data_subtracted, overwrite=True)"
   ]
  },
  {
   "cell_type": "code",
   "execution_count": null,
   "metadata": {},
   "outputs": [],
   "source": [
    "# Mostrar el histograma de los valores de los píxeles\n",
    "plt.figure(figsize=(10, 6))\n",
    "plt.hist(image_data_subtracted.flatten(), bins=100, color='blue', alpha=0.7)\n",
    "plt.title('Histograma de Valores de los Píxeles')\n",
    "plt.xlabel('Valor del Píxel')\n",
    "plt.ylabel('Frecuencia')\n",
    "plt.yscale('log')  # Usar escala logarítmica para mejor visualización\n",
    "plt.grid(True)\n",
    "plt.show()"
   ]
  },
  {
   "cell_type": "code",
   "execution_count": null,
   "metadata": {},
   "outputs": [],
   "source": []
  }
 ],
 "metadata": {
  "kernelspec": {
   "display_name": "base",
   "language": "python",
   "name": "python3"
  },
  "language_info": {
   "codemirror_mode": {
    "name": "ipython",
    "version": 3
   },
   "file_extension": ".py",
   "mimetype": "text/x-python",
   "name": "python",
   "nbconvert_exporter": "python",
   "pygments_lexer": "ipython3",
   "version": "3.9.13"
  }
 },
 "nbformat": 4,
 "nbformat_minor": 2
}
