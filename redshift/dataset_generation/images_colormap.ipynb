{
 "cells": [
  {
   "cell_type": "code",
   "execution_count": null,
   "metadata": {},
   "outputs": [],
   "source": [
    "import matplotlib.pyplot as plt\n",
    "from astropy.io import fits\n",
    "from astropy.wcs import WCS\n",
    "import numpy as np\n",
    "from mpl_toolkits.axes_grid1.anchored_artists import AnchoredSizeBar\n",
    "from matplotlib.colors import LogNorm"
   ]
  },
  {
   "cell_type": "code",
   "execution_count": null,
   "metadata": {},
   "outputs": [],
   "source": [
    "background_images_path = \"backgrounds/\"\n",
    "background_VIS_image = \"IC342_VIS.fits\""
   ]
  },
  {
   "cell_type": "code",
   "execution_count": null,
   "metadata": {},
   "outputs": [],
   "source": [
    "# Cargar el archivo FITS\n",
    "file_name = 'backgrounds/IC342_VIS.fits'\n",
    "hdul = fits.open(file_name)\n",
    "data = hdul[0].data\n",
    "header = hdul[0].header\n",
    "wcs = WCS(header)\n",
    "hdul.close()"
   ]
  },
  {
   "cell_type": "code",
   "execution_count": null,
   "metadata": {},
   "outputs": [],
   "source": [
    "# Parámetros de la imagen\n",
    "zp = 30.137\n",
    "pix_scale = 0.1  # arcsec/pixel\n",
    "\n",
    "# Convertir la imagen a brillo superficial en mag/arcsec^2\n",
    "data = np.where(data > 0, data, 1) \n",
    "brillo_superficial = zp - 2.5 * np.log10(data) + 2.5 * np.log10(pix_scale**2)"
   ]
  },
  {
   "cell_type": "code",
   "execution_count": null,
   "metadata": {},
   "outputs": [],
   "source": [
    "# Create the figure and axis with WCS\n",
    "fig, ax = plt.subplots(subplot_kw={'projection': wcs})\n",
    "im = ax.imshow(brillo_superficial, cmap='viridis_r', origin='lower', vmin=20, vmax=26)\n",
    "cbar = plt.colorbar(im, ax=ax)\n",
    "cbar.set_label('Surface Brightness (mag/arcsec²)')\n",
    "\n",
    "# Add the scale bar\n",
    "scale_length = 5  # length of the scale bar in arcsec\n",
    "scale_pixel_length = scale_length / pix_scale  # length in pixels\n",
    "\n",
    "# Add the scale bar to the plot\n",
    "scalebar = AnchoredSizeBar(ax.transData,\n",
    "                           scale_pixel_length,\n",
    "                           f'{scale_length}\"',\n",
    "                           'lower right', \n",
    "                           pad=0.1,\n",
    "                           color='white',\n",
    "                           frameon=False,\n",
    "                           size_vertical=1)\n",
    "ax.add_artist(scalebar)\n",
    "\n",
    "# Show the plot\n",
    "plt.xlabel('Right Ascension')\n",
    "plt.ylabel('Declination')\n",
    "plt.savefig('background_vis.png', dpi=300)  # Save the image\n",
    "plt.show()"
   ]
  },
  {
   "cell_type": "code",
   "execution_count": null,
   "metadata": {},
   "outputs": [],
   "source": []
  }
 ],
 "metadata": {
  "kernelspec": {
   "display_name": "Python 3",
   "language": "python",
   "name": "python3"
  },
  "language_info": {
   "codemirror_mode": {
    "name": "ipython",
    "version": 3
   },
   "file_extension": ".py",
   "mimetype": "text/x-python",
   "name": "python",
   "nbconvert_exporter": "python",
   "pygments_lexer": "ipython3",
   "version": "3.11.6"
  }
 },
 "nbformat": 4,
 "nbformat_minor": 2
}
